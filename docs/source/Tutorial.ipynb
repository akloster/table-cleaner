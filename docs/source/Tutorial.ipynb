{
 "cells": [
  {
   "cell_type": "markdown",
   "metadata": {},
   "source": [
    "Tutorial\n",
    "========\n",
    "\n",
    "This tutorial will show you how to use the Table-Cleaner validation framework.\n",
    "\n",
    "First, let's import the necessary modules. My personal style is to abbreviate\n",
    "the scientific python libraries with two letters. This avoids namespace cluttering\n",
    "on the one hand, and is still reasonably short."
   ]
  },
  {
   "cell_type": "code",
   "execution_count": 1,
   "metadata": {
    "collapsed": false
   },
   "outputs": [],
   "source": [
    "import pandas as pd\n",
    "from IPython import display\n",
    "import table_cleaner as tc"
   ]
  },
  {
   "cell_type": "markdown",
   "metadata": {},
   "source": [
    "IPython.display provides us with the means to display Python objects in a \"rich\" way, especially useful for tables.\n",
    "\n",
    "Introduction\n",
    "---\n",
    "\n",
    "Validating tabular data, especially from CSV or Excel files is a very common task in data science and even generic programming. Many times this data isn't \"clean\" enough for further processing. Writing custom code to transform or clean up this kind of data quickly gets out of hand.\n",
    "\n",
    "Table-Cleaner is a framework to generalize this cleaning process."
   ]
  },
  {
   "cell_type": "markdown",
   "metadata": {},
   "source": [
    "Basic Example\n",
    "---"
   ]
  },
  {
   "cell_type": "markdown",
   "metadata": {},
   "source": [
    "First, let's create a DataFrame with messy data."
   ]
  },
  {
   "cell_type": "code",
   "execution_count": 2,
   "metadata": {
    "collapsed": false
   },
   "outputs": [
    {
     "data": {
      "text/html": [
       "<div style=\"max-height:1000px;max-width:1500px;overflow:auto;\">\n",
       "<table border=\"1\" class=\"dataframe\">\n",
       "  <thead>\n",
       "    <tr style=\"text-align: right;\">\n",
       "      <th></th>\n",
       "      <th>active</th>\n",
       "      <th>email</th>\n",
       "      <th>name</th>\n",
       "      <th>x</th>\n",
       "      <th>y</th>\n",
       "    </tr>\n",
       "  </thead>\n",
       "  <tbody>\n",
       "    <tr>\n",
       "      <th>0</th>\n",
       "      <td>     Y</td>\n",
       "      <td>   alice@example.com</td>\n",
       "      <td>             Alice</td>\n",
       "      <td>     0</td>\n",
       "      <td>   0.2</td>\n",
       "    </tr>\n",
       "    <tr>\n",
       "      <th>1</th>\n",
       "      <td>  None</td>\n",
       "      <td>     bob@example.com</td>\n",
       "      <td>               Bob</td>\n",
       "      <td>   3.2</td>\n",
       "      <td>   3.2</td>\n",
       "    </tr>\n",
       "    <tr>\n",
       "      <th>2</th>\n",
       "      <td>     T</td>\n",
       "      <td>                blub</td>\n",
       "      <td> Wilhelm Alexander</td>\n",
       "      <td>     5</td>\n",
       "      <td>   1.3</td>\n",
       "    </tr>\n",
       "    <tr>\n",
       "      <th>3</th>\n",
       "      <td> false</td>\n",
       "      <td>                   4</td>\n",
       "      <td>                 1</td>\n",
       "      <td> hello</td>\n",
       "      <td> hello</td>\n",
       "    </tr>\n",
       "    <tr>\n",
       "      <th>4</th>\n",
       "      <td>    no</td>\n",
       "      <td>    mary@example.com</td>\n",
       "      <td>              Mary</td>\n",
       "      <td>    -3</td>\n",
       "      <td>    -3</td>\n",
       "    </tr>\n",
       "    <tr>\n",
       "      <th>5</th>\n",
       "      <td>     T</td>\n",
       "      <td> andy k@example .com</td>\n",
       "      <td>              Andy</td>\n",
       "      <td>    11</td>\n",
       "      <td>    11</td>\n",
       "    </tr>\n",
       "  </tbody>\n",
       "</table>\n",
       "</div>"
      ],
      "text/plain": [
       "  active                email               name      x      y\n",
       "0      Y    alice@example.com              Alice      0    0.2\n",
       "1   None      bob@example.com                Bob    3.2    3.2\n",
       "2      T                 blub  Wilhelm Alexander      5    1.3\n",
       "3  false                    4                  1  hello  hello\n",
       "4     no     mary@example.com               Mary     -3     -3\n",
       "5      T  andy k@example .com               Andy     11     11"
      ]
     },
     "metadata": {},
     "output_type": "display_data"
    }
   ],
   "source": [
    "initial_df = pd.DataFrame(dict(name=[\"Alice\", \"Bob\", \"Wilhelm Alexander\", 1, \"Mary\", \"Andy\"],\n",
    "                            email=[\"alice@example.com\", \"bob@example.com\", \"blub\", 4, \"mary@example.com\",\n",
    "                            \"andy k@example .com\"],\n",
    "                            x=[0,3.2,\"5\",\"hello\", -3,11,],\n",
    "                            y=[0.2,3.2,1.3,\"hello\",-3.0,11.0],\n",
    "                            active=[\"Y\", None, \"T\", \"false\", \"no\", \"T\"]\n",
    "                            ))\n",
    "\n",
    "display.display(initial_df)"
   ]
  },
  {
   "cell_type": "markdown",
   "metadata": {},
   "source": [
    "This dataframe contains several columns. Some of the cells don't look much like the other cells in the same column. For Example we have numbers in the email and name columns and strings in the number columns.\n",
    "\n",
    "Looking at the dtypes assigned to the dataframe columns reveals a further issue with this mess:"
   ]
  },
  {
   "cell_type": "code",
   "execution_count": 3,
   "metadata": {
    "collapsed": false
   },
   "outputs": [
    {
     "data": {
      "text/plain": [
       "active    object\n",
       "email     object\n",
       "name      object\n",
       "x         object\n",
       "y         object\n",
       "dtype: object"
      ]
     },
     "execution_count": 3,
     "metadata": {},
     "output_type": "execute_result"
    }
   ],
   "source": [
    "initial_df.dtypes"
   ]
  },
  {
   "cell_type": "markdown",
   "metadata": {},
   "source": [
    "All columns are referred to as \"object\", which means they are saved as individual Python objects, rather than strings, integers or floats. This can make further processing inefficient, but also error prone, because different Python objects may not work with certain dataframe functionality.\n",
    "\n",
    "Let's define a cleaner:"
   ]
  },
  {
   "cell_type": "code",
   "execution_count": 4,
   "metadata": {
    "collapsed": false
   },
   "outputs": [],
   "source": [
    "cleaner = tc.TableCleaner({'name': tc.String(min_length=2, max_length=10),\n",
    "                           'email': tc.Email(),\n",
    "                           'x': tc.Int(min_value=0, max_value=10),\n",
    "                           'y': tc.Float64(min_value=0, max_value=10),\n",
    "                           'active': tc.Bool(),\n",
    "                            })\n"
   ]
  },
  {
   "cell_type": "markdown",
   "metadata": {},
   "source": [
    "The TableCleaner constructor takes a dictionary for its first argument. This dictionary contains a mapping from column names to validator instances.\n",
    "\n",
    "The tc.String instance validates every input to a string. Because most Python objects have some way of being represented as a string, this will usually work. Additionally, it can impose restrictions on minimum and maximum string length.\n",
    "\n",
    "The tc.Int instance tries to turn the input into integer objects. This usually only works with numbers, or strings which look like integers. Here, also, minimum and maximum values can be optionally specified.\n",
    "\n",
    "The cleaner object can now validate the input dataframe like this:"
   ]
  },
  {
   "cell_type": "code",
   "execution_count": 5,
   "metadata": {
    "collapsed": false
   },
   "outputs": [],
   "source": [
    "output, verdicts = cleaner.validate(initial_df)"
   ]
  },
  {
   "cell_type": "markdown",
   "metadata": {},
   "source": [
    "The validate method returns a tuple containing the validated output dataframe\n",
    "and a dataframe containing the verdicts on the individual cells."
   ]
  },
  {
   "cell_type": "code",
   "execution_count": 6,
   "metadata": {
    "collapsed": false
   },
   "outputs": [
    {
     "data": {
      "text/html": [
       "<div style=\"max-height:1000px;max-width:1500px;overflow:auto;\">\n",
       "<table border=\"1\" class=\"dataframe\">\n",
       "  <thead>\n",
       "    <tr style=\"text-align: right;\">\n",
       "      <th></th>\n",
       "      <th>active</th>\n",
       "      <th>email</th>\n",
       "      <th>name</th>\n",
       "      <th>x</th>\n",
       "      <th>y</th>\n",
       "    </tr>\n",
       "  </thead>\n",
       "  <tbody>\n",
       "    <tr>\n",
       "      <th>0</th>\n",
       "      <td> True</td>\n",
       "      <td> alice@example.com</td>\n",
       "      <td> Alice</td>\n",
       "      <td> 0</td>\n",
       "      <td> 0.2</td>\n",
       "    </tr>\n",
       "    <tr>\n",
       "      <th>1</th>\n",
       "      <td>  NaN</td>\n",
       "      <td>   bob@example.com</td>\n",
       "      <td>   Bob</td>\n",
       "      <td> 3</td>\n",
       "      <td> 3.2</td>\n",
       "    </tr>\n",
       "  </tbody>\n",
       "</table>\n",
       "</div>"
      ],
      "text/plain": [
       "  active              email   name  x    y\n",
       "0   True  alice@example.com  Alice  0  0.2\n",
       "1    NaN    bob@example.com    Bob  3  3.2"
      ]
     },
     "metadata": {},
     "output_type": "display_data"
    }
   ],
   "source": [
    "display.display(output)"
   ]
  },
  {
   "cell_type": "markdown",
   "metadata": {},
   "source": [
    "The DataFrame only contains completely valid rows, because the default behavior is to delete any rows containing an error. See below on how to use missing values instead.\n",
    "\n",
    "The datatypes for the \"x\" column is now int64 instead of object. \"y\" is now float64. Pandas uses the dtype system specified in numpy, and numpy references strings as \"object\". The main reason for this is that numeric data is usually stored in a contiguous way, meaning every value has the same \"width\" of bytes in memory. Strings, not so much. Their size varies. So arrays containing strings have to reference a string object with a pointer. Then the array of pointers is contiguous with a fixed number of bytes per pointer.\n",
    "\n",
    "The \"active\" column is validated as a boolean field. There is a dtype called bool, but it only allows True and False. If there are missing values, the column reverts to \"object\"."
   ]
  },
  {
   "cell_type": "code",
   "execution_count": 7,
   "metadata": {
    "collapsed": false
   },
   "outputs": [
    {
     "data": {
      "text/plain": [
       "active     object\n",
       "email      object\n",
       "name       object\n",
       "x           int64\n",
       "y         float64\n",
       "dtype: object"
      ]
     },
     "execution_count": 7,
     "metadata": {},
     "output_type": "execute_result"
    }
   ],
   "source": [
    "output.dtypes"
   ]
  },
  {
   "cell_type": "markdown",
   "metadata": {
    "collapsed": false
   },
   "source": [
    "So far, we have ensured only valid data is in the output table. But Table Cleaner can do more: The errors themselves can be treated as data:"
   ]
  },
  {
   "cell_type": "code",
   "execution_count": 8,
   "metadata": {
    "collapsed": false
   },
   "outputs": [
    {
     "data": {
      "text/html": [
       "<div style=\"max-height:1000px;max-width:1500px;overflow:auto;\">\n",
       "<table border=\"1\" class=\"dataframe\">\n",
       "  <thead>\n",
       "    <tr style=\"text-align: right;\">\n",
       "      <th></th>\n",
       "      <th>column</th>\n",
       "      <th>counter</th>\n",
       "      <th>description</th>\n",
       "      <th>reason</th>\n",
       "      <th>valid</th>\n",
       "    </tr>\n",
       "  </thead>\n",
       "  <tbody>\n",
       "    <tr>\n",
       "      <th>0</th>\n",
       "      <td>   name</td>\n",
       "      <td>  0</td>\n",
       "      <td>                               undefined verdict</td>\n",
       "      <td>                 undefined</td>\n",
       "      <td>  True</td>\n",
       "    </tr>\n",
       "    <tr>\n",
       "      <th>0</th>\n",
       "      <td>      y</td>\n",
       "      <td>  1</td>\n",
       "      <td>                               undefined verdict</td>\n",
       "      <td>                 undefined</td>\n",
       "      <td>  True</td>\n",
       "    </tr>\n",
       "    <tr>\n",
       "      <th>0</th>\n",
       "      <td> active</td>\n",
       "      <td>  2</td>\n",
       "      <td>                               undefined verdict</td>\n",
       "      <td>                 undefined</td>\n",
       "      <td>  True</td>\n",
       "    </tr>\n",
       "    <tr>\n",
       "      <th>0</th>\n",
       "      <td>      x</td>\n",
       "      <td>  3</td>\n",
       "      <td>                               undefined verdict</td>\n",
       "      <td>                 undefined</td>\n",
       "      <td>  True</td>\n",
       "    </tr>\n",
       "    <tr>\n",
       "      <th>0</th>\n",
       "      <td>  email</td>\n",
       "      <td>  4</td>\n",
       "      <td>                               undefined verdict</td>\n",
       "      <td>                 undefined</td>\n",
       "      <td>  True</td>\n",
       "    </tr>\n",
       "    <tr>\n",
       "      <th>1</th>\n",
       "      <td>   name</td>\n",
       "      <td>  5</td>\n",
       "      <td>                               undefined verdict</td>\n",
       "      <td>                 undefined</td>\n",
       "      <td>  True</td>\n",
       "    </tr>\n",
       "    <tr>\n",
       "      <th>1</th>\n",
       "      <td>      y</td>\n",
       "      <td>  6</td>\n",
       "      <td>                               undefined verdict</td>\n",
       "      <td>                 undefined</td>\n",
       "      <td>  True</td>\n",
       "    </tr>\n",
       "    <tr>\n",
       "      <th>1</th>\n",
       "      <td> active</td>\n",
       "      <td>  7</td>\n",
       "      <td>                               undefined verdict</td>\n",
       "      <td>                 undefined</td>\n",
       "      <td>  True</td>\n",
       "    </tr>\n",
       "    <tr>\n",
       "      <th>1</th>\n",
       "      <td>      x</td>\n",
       "      <td>  8</td>\n",
       "      <td>                               undefined verdict</td>\n",
       "      <td>                 undefined</td>\n",
       "      <td>  True</td>\n",
       "    </tr>\n",
       "    <tr>\n",
       "      <th>1</th>\n",
       "      <td>  email</td>\n",
       "      <td>  9</td>\n",
       "      <td>                               undefined verdict</td>\n",
       "      <td>                 undefined</td>\n",
       "      <td>  True</td>\n",
       "    </tr>\n",
       "    <tr>\n",
       "      <th>2</th>\n",
       "      <td>   name</td>\n",
       "      <td> 10</td>\n",
       "      <td> 'Wilhelm Alexander' has more than 10 characters</td>\n",
       "      <td>                  too long</td>\n",
       "      <td> False</td>\n",
       "    </tr>\n",
       "    <tr>\n",
       "      <th>2</th>\n",
       "      <td>      y</td>\n",
       "      <td> 11</td>\n",
       "      <td>                               undefined verdict</td>\n",
       "      <td>                 undefined</td>\n",
       "      <td>  True</td>\n",
       "    </tr>\n",
       "    <tr>\n",
       "      <th>2</th>\n",
       "      <td> active</td>\n",
       "      <td> 12</td>\n",
       "      <td>                               undefined verdict</td>\n",
       "      <td>                 undefined</td>\n",
       "      <td>  True</td>\n",
       "    </tr>\n",
       "    <tr>\n",
       "      <th>2</th>\n",
       "      <td>      x</td>\n",
       "      <td> 13</td>\n",
       "      <td>                               undefined verdict</td>\n",
       "      <td>                 undefined</td>\n",
       "      <td>  True</td>\n",
       "    </tr>\n",
       "    <tr>\n",
       "      <th>2</th>\n",
       "      <td>  email</td>\n",
       "      <td> 14</td>\n",
       "      <td>  E-Mail addresses must contain one @ character.</td>\n",
       "      <td>          email_without_at</td>\n",
       "      <td> False</td>\n",
       "    </tr>\n",
       "    <tr>\n",
       "      <th>3</th>\n",
       "      <td>   name</td>\n",
       "      <td> 15</td>\n",
       "      <td>                 '1' has fewer than 2 characters</td>\n",
       "      <td>                 too short</td>\n",
       "      <td> False</td>\n",
       "    </tr>\n",
       "    <tr>\n",
       "      <th>3</th>\n",
       "      <td>      y</td>\n",
       "      <td> 16</td>\n",
       "      <td>          'hello' cannot be converted to float64</td>\n",
       "      <td>           invalid float64</td>\n",
       "      <td> False</td>\n",
       "    </tr>\n",
       "    <tr>\n",
       "      <th>3</th>\n",
       "      <td> active</td>\n",
       "      <td> 17</td>\n",
       "      <td>                               undefined verdict</td>\n",
       "      <td>                 undefined</td>\n",
       "      <td>  True</td>\n",
       "    </tr>\n",
       "    <tr>\n",
       "      <th>3</th>\n",
       "      <td>      x</td>\n",
       "      <td> 18</td>\n",
       "      <td>            'hello' cannot be converted to int32</td>\n",
       "      <td>             invalid int32</td>\n",
       "      <td> False</td>\n",
       "    </tr>\n",
       "    <tr>\n",
       "      <th>3</th>\n",
       "      <td>  email</td>\n",
       "      <td> 19</td>\n",
       "      <td>  E-Mail addresses must contain one @ character.</td>\n",
       "      <td>          email_without_at</td>\n",
       "      <td> False</td>\n",
       "    </tr>\n",
       "    <tr>\n",
       "      <th>4</th>\n",
       "      <td>   name</td>\n",
       "      <td> 20</td>\n",
       "      <td>                               undefined verdict</td>\n",
       "      <td>                 undefined</td>\n",
       "      <td>  True</td>\n",
       "    </tr>\n",
       "    <tr>\n",
       "      <th>4</th>\n",
       "      <td>      y</td>\n",
       "      <td> 21</td>\n",
       "      <td>                              -3 is lower than 0</td>\n",
       "      <td>             value too low</td>\n",
       "      <td> False</td>\n",
       "    </tr>\n",
       "    <tr>\n",
       "      <th>4</th>\n",
       "      <td> active</td>\n",
       "      <td> 22</td>\n",
       "      <td>                               undefined verdict</td>\n",
       "      <td>                 undefined</td>\n",
       "      <td>  True</td>\n",
       "    </tr>\n",
       "    <tr>\n",
       "      <th>4</th>\n",
       "      <td>      x</td>\n",
       "      <td> 23</td>\n",
       "      <td>                              -3 is lower than 0</td>\n",
       "      <td>             value too low</td>\n",
       "      <td> False</td>\n",
       "    </tr>\n",
       "    <tr>\n",
       "      <th>4</th>\n",
       "      <td>  email</td>\n",
       "      <td> 24</td>\n",
       "      <td>                               undefined verdict</td>\n",
       "      <td>                 undefined</td>\n",
       "      <td>  True</td>\n",
       "    </tr>\n",
       "    <tr>\n",
       "      <th>5</th>\n",
       "      <td>   name</td>\n",
       "      <td> 25</td>\n",
       "      <td>                               undefined verdict</td>\n",
       "      <td>                 undefined</td>\n",
       "      <td>  True</td>\n",
       "    </tr>\n",
       "    <tr>\n",
       "      <th>5</th>\n",
       "      <td>      y</td>\n",
       "      <td> 26</td>\n",
       "      <td>                            11 is higher than 10</td>\n",
       "      <td>            value too high</td>\n",
       "      <td> False</td>\n",
       "    </tr>\n",
       "    <tr>\n",
       "      <th>5</th>\n",
       "      <td> active</td>\n",
       "      <td> 27</td>\n",
       "      <td>                               undefined verdict</td>\n",
       "      <td>                 undefined</td>\n",
       "      <td>  True</td>\n",
       "    </tr>\n",
       "    <tr>\n",
       "      <th>5</th>\n",
       "      <td>      x</td>\n",
       "      <td> 28</td>\n",
       "      <td>                            11 is higher than 10</td>\n",
       "      <td>            value too high</td>\n",
       "      <td> False</td>\n",
       "    </tr>\n",
       "    <tr>\n",
       "      <th>5</th>\n",
       "      <td>  email</td>\n",
       "      <td> 29</td>\n",
       "      <td> 'example .com' is not a valid email domain name</td>\n",
       "      <td> email_domain_name_invalid</td>\n",
       "      <td> False</td>\n",
       "    </tr>\n",
       "    <tr>\n",
       "      <th>5</th>\n",
       "      <td>  email</td>\n",
       "      <td> 30</td>\n",
       "      <td>         'andy k' is not a valid email user name</td>\n",
       "      <td>   email_user_name_invalid</td>\n",
       "      <td> False</td>\n",
       "    </tr>\n",
       "  </tbody>\n",
       "</table>\n",
       "</div>"
      ],
      "text/plain": [
       "   column  counter                                      description  \\\n",
       "0    name        0                                undefined verdict   \n",
       "0       y        1                                undefined verdict   \n",
       "0  active        2                                undefined verdict   \n",
       "0       x        3                                undefined verdict   \n",
       "0   email        4                                undefined verdict   \n",
       "1    name        5                                undefined verdict   \n",
       "1       y        6                                undefined verdict   \n",
       "1  active        7                                undefined verdict   \n",
       "1       x        8                                undefined verdict   \n",
       "1   email        9                                undefined verdict   \n",
       "2    name       10  'Wilhelm Alexander' has more than 10 characters   \n",
       "2       y       11                                undefined verdict   \n",
       "2  active       12                                undefined verdict   \n",
       "2       x       13                                undefined verdict   \n",
       "2   email       14   E-Mail addresses must contain one @ character.   \n",
       "3    name       15                  '1' has fewer than 2 characters   \n",
       "3       y       16           'hello' cannot be converted to float64   \n",
       "3  active       17                                undefined verdict   \n",
       "3       x       18             'hello' cannot be converted to int32   \n",
       "3   email       19   E-Mail addresses must contain one @ character.   \n",
       "4    name       20                                undefined verdict   \n",
       "4       y       21                               -3 is lower than 0   \n",
       "4  active       22                                undefined verdict   \n",
       "4       x       23                               -3 is lower than 0   \n",
       "4   email       24                                undefined verdict   \n",
       "5    name       25                                undefined verdict   \n",
       "5       y       26                             11 is higher than 10   \n",
       "5  active       27                                undefined verdict   \n",
       "5       x       28                             11 is higher than 10   \n",
       "5   email       29  'example .com' is not a valid email domain name   \n",
       "5   email       30          'andy k' is not a valid email user name   \n",
       "\n",
       "                      reason  valid  \n",
       "0                  undefined   True  \n",
       "0                  undefined   True  \n",
       "0                  undefined   True  \n",
       "0                  undefined   True  \n",
       "0                  undefined   True  \n",
       "1                  undefined   True  \n",
       "1                  undefined   True  \n",
       "1                  undefined   True  \n",
       "1                  undefined   True  \n",
       "1                  undefined   True  \n",
       "2                   too long  False  \n",
       "2                  undefined   True  \n",
       "2                  undefined   True  \n",
       "2                  undefined   True  \n",
       "2           email_without_at  False  \n",
       "3                  too short  False  \n",
       "3            invalid float64  False  \n",
       "3                  undefined   True  \n",
       "3              invalid int32  False  \n",
       "3           email_without_at  False  \n",
       "4                  undefined   True  \n",
       "4              value too low  False  \n",
       "4                  undefined   True  \n",
       "4              value too low  False  \n",
       "4                  undefined   True  \n",
       "5                  undefined   True  \n",
       "5             value too high  False  \n",
       "5                  undefined   True  \n",
       "5             value too high  False  \n",
       "5  email_domain_name_invalid  False  \n",
       "5    email_user_name_invalid  False  "
      ]
     },
     "execution_count": 8,
     "metadata": {},
     "output_type": "execute_result"
    }
   ],
   "source": [
    "verdicts"
   ]
  },
  {
   "cell_type": "markdown",
   "metadata": {},
   "source": [
    "In this case there is only one row per cell, or one per row and column. Except for the last row, where there are two warnings/errors for the Email column. In the current set of built-in validators this arises very rarely. Just keep in mind not to sum the errors up naively and call it the \"number of invalid data points\".\n",
    "\n",
    "Let's filter the verdicts by validity:"
   ]
  },
  {
   "cell_type": "code",
   "execution_count": 9,
   "metadata": {
    "collapsed": false
   },
   "outputs": [
    {
     "data": {
      "text/html": [
       "<div style=\"max-height:1000px;max-width:1500px;overflow:auto;\">\n",
       "<table border=\"1\" class=\"dataframe\">\n",
       "  <thead>\n",
       "    <tr style=\"text-align: right;\">\n",
       "      <th></th>\n",
       "      <th>column</th>\n",
       "      <th>counter</th>\n",
       "      <th>description</th>\n",
       "      <th>reason</th>\n",
       "      <th>valid</th>\n",
       "    </tr>\n",
       "  </thead>\n",
       "  <tbody>\n",
       "    <tr>\n",
       "      <th>2</th>\n",
       "      <td>  name</td>\n",
       "      <td> 10</td>\n",
       "      <td> 'Wilhelm Alexander' has more than 10 characters</td>\n",
       "      <td>                  too long</td>\n",
       "      <td> False</td>\n",
       "    </tr>\n",
       "    <tr>\n",
       "      <th>2</th>\n",
       "      <td> email</td>\n",
       "      <td> 14</td>\n",
       "      <td>  E-Mail addresses must contain one @ character.</td>\n",
       "      <td>          email_without_at</td>\n",
       "      <td> False</td>\n",
       "    </tr>\n",
       "    <tr>\n",
       "      <th>3</th>\n",
       "      <td>  name</td>\n",
       "      <td> 15</td>\n",
       "      <td>                 '1' has fewer than 2 characters</td>\n",
       "      <td>                 too short</td>\n",
       "      <td> False</td>\n",
       "    </tr>\n",
       "    <tr>\n",
       "      <th>3</th>\n",
       "      <td>     y</td>\n",
       "      <td> 16</td>\n",
       "      <td>          'hello' cannot be converted to float64</td>\n",
       "      <td>           invalid float64</td>\n",
       "      <td> False</td>\n",
       "    </tr>\n",
       "    <tr>\n",
       "      <th>3</th>\n",
       "      <td>     x</td>\n",
       "      <td> 18</td>\n",
       "      <td>            'hello' cannot be converted to int32</td>\n",
       "      <td>             invalid int32</td>\n",
       "      <td> False</td>\n",
       "    </tr>\n",
       "    <tr>\n",
       "      <th>3</th>\n",
       "      <td> email</td>\n",
       "      <td> 19</td>\n",
       "      <td>  E-Mail addresses must contain one @ character.</td>\n",
       "      <td>          email_without_at</td>\n",
       "      <td> False</td>\n",
       "    </tr>\n",
       "    <tr>\n",
       "      <th>4</th>\n",
       "      <td>     y</td>\n",
       "      <td> 21</td>\n",
       "      <td>                              -3 is lower than 0</td>\n",
       "      <td>             value too low</td>\n",
       "      <td> False</td>\n",
       "    </tr>\n",
       "    <tr>\n",
       "      <th>4</th>\n",
       "      <td>     x</td>\n",
       "      <td> 23</td>\n",
       "      <td>                              -3 is lower than 0</td>\n",
       "      <td>             value too low</td>\n",
       "      <td> False</td>\n",
       "    </tr>\n",
       "    <tr>\n",
       "      <th>5</th>\n",
       "      <td>     y</td>\n",
       "      <td> 26</td>\n",
       "      <td>                            11 is higher than 10</td>\n",
       "      <td>            value too high</td>\n",
       "      <td> False</td>\n",
       "    </tr>\n",
       "    <tr>\n",
       "      <th>5</th>\n",
       "      <td>     x</td>\n",
       "      <td> 28</td>\n",
       "      <td>                            11 is higher than 10</td>\n",
       "      <td>            value too high</td>\n",
       "      <td> False</td>\n",
       "    </tr>\n",
       "    <tr>\n",
       "      <th>5</th>\n",
       "      <td> email</td>\n",
       "      <td> 29</td>\n",
       "      <td> 'example .com' is not a valid email domain name</td>\n",
       "      <td> email_domain_name_invalid</td>\n",
       "      <td> False</td>\n",
       "    </tr>\n",
       "    <tr>\n",
       "      <th>5</th>\n",
       "      <td> email</td>\n",
       "      <td> 30</td>\n",
       "      <td>         'andy k' is not a valid email user name</td>\n",
       "      <td>   email_user_name_invalid</td>\n",
       "      <td> False</td>\n",
       "    </tr>\n",
       "  </tbody>\n",
       "</table>\n",
       "</div>"
      ],
      "text/plain": [
       "  column  counter                                      description  \\\n",
       "2   name       10  'Wilhelm Alexander' has more than 10 characters   \n",
       "2  email       14   E-Mail addresses must contain one @ character.   \n",
       "3   name       15                  '1' has fewer than 2 characters   \n",
       "3      y       16           'hello' cannot be converted to float64   \n",
       "3      x       18             'hello' cannot be converted to int32   \n",
       "3  email       19   E-Mail addresses must contain one @ character.   \n",
       "4      y       21                               -3 is lower than 0   \n",
       "4      x       23                               -3 is lower than 0   \n",
       "5      y       26                             11 is higher than 10   \n",
       "5      x       28                             11 is higher than 10   \n",
       "5  email       29  'example .com' is not a valid email domain name   \n",
       "5  email       30          'andy k' is not a valid email user name   \n",
       "\n",
       "                      reason  valid  \n",
       "2                   too long  False  \n",
       "2           email_without_at  False  \n",
       "3                  too short  False  \n",
       "3            invalid float64  False  \n",
       "3              invalid int32  False  \n",
       "3           email_without_at  False  \n",
       "4              value too low  False  \n",
       "4              value too low  False  \n",
       "5             value too high  False  \n",
       "5             value too high  False  \n",
       "5  email_domain_name_invalid  False  \n",
       "5    email_user_name_invalid  False  "
      ]
     },
     "metadata": {},
     "output_type": "display_data"
    }
   ],
   "source": [
    "errors = verdicts[~verdicts.valid]\n",
    "display.display(errors)"
   ]
  },
  {
   "cell_type": "markdown",
   "metadata": {},
   "source": [
    "As this is an ordinary DataFrame, we can do all the known shenanigans to it, for example:"
   ]
  },
  {
   "cell_type": "code",
   "execution_count": 10,
   "metadata": {
    "collapsed": false
   },
   "outputs": [
    {
     "data": {
      "text/html": [
       "<div style=\"max-height:1000px;max-width:1500px;overflow:auto;\">\n",
       "<table border=\"1\" class=\"dataframe\">\n",
       "  <thead>\n",
       "    <tr style=\"text-align: right;\">\n",
       "      <th></th>\n",
       "      <th></th>\n",
       "      <th>counter</th>\n",
       "    </tr>\n",
       "    <tr>\n",
       "      <th>column</th>\n",
       "      <th>reason</th>\n",
       "      <th></th>\n",
       "    </tr>\n",
       "  </thead>\n",
       "  <tbody>\n",
       "    <tr>\n",
       "      <th rowspan=\"3\" valign=\"top\">email</th>\n",
       "      <th>email_domain_name_invalid</th>\n",
       "      <td> 1</td>\n",
       "    </tr>\n",
       "    <tr>\n",
       "      <th>email_user_name_invalid</th>\n",
       "      <td> 1</td>\n",
       "    </tr>\n",
       "    <tr>\n",
       "      <th>email_without_at</th>\n",
       "      <td> 2</td>\n",
       "    </tr>\n",
       "    <tr>\n",
       "      <th rowspan=\"2\" valign=\"top\">name</th>\n",
       "      <th>too long</th>\n",
       "      <td> 1</td>\n",
       "    </tr>\n",
       "    <tr>\n",
       "      <th>too short</th>\n",
       "      <td> 1</td>\n",
       "    </tr>\n",
       "    <tr>\n",
       "      <th rowspan=\"3\" valign=\"top\">x</th>\n",
       "      <th>invalid int32</th>\n",
       "      <td> 1</td>\n",
       "    </tr>\n",
       "    <tr>\n",
       "      <th>value too high</th>\n",
       "      <td> 1</td>\n",
       "    </tr>\n",
       "    <tr>\n",
       "      <th>value too low</th>\n",
       "      <td> 1</td>\n",
       "    </tr>\n",
       "    <tr>\n",
       "      <th rowspan=\"3\" valign=\"top\">y</th>\n",
       "      <th>invalid float64</th>\n",
       "      <td> 1</td>\n",
       "    </tr>\n",
       "    <tr>\n",
       "      <th>value too high</th>\n",
       "      <td> 1</td>\n",
       "    </tr>\n",
       "    <tr>\n",
       "      <th>value too low</th>\n",
       "      <td> 1</td>\n",
       "    </tr>\n",
       "  </tbody>\n",
       "</table>\n",
       "</div>"
      ],
      "text/plain": [
       "                                  counter\n",
       "column reason                            \n",
       "email  email_domain_name_invalid        1\n",
       "       email_user_name_invalid          1\n",
       "       email_without_at                 2\n",
       "name   too long                         1\n",
       "       too short                        1\n",
       "x      invalid int32                    1\n",
       "       value too high                   1\n",
       "       value too low                    1\n",
       "y      invalid float64                  1\n",
       "       value too high                   1\n",
       "       value too low                    1"
      ]
     },
     "execution_count": 10,
     "metadata": {},
     "output_type": "execute_result"
    }
   ],
   "source": [
    "errors.groupby([\"column\", \"reason\"])[\"counter\",].count()"
   ]
  },
  {
   "cell_type": "markdown",
   "metadata": {},
   "source": [
    "This functionality is the main reason why Table Cleaner was initially written. In reproducible datascience, it is important not only to validate input data, but also be aware of, analyze and present the errors present in the data.\n",
    "\n",
    "The framework laid out in this project aims to provide this capability. It's still in its infancy, and the API may well be changed."
   ]
  },
  {
   "cell_type": "markdown",
   "metadata": {},
   "source": [
    "Markup Frames\n",
    "------\n",
    "\n",
    "Let's bring some color into our tables. First, define some CSS styles for the notebook, like so:"
   ]
  },
  {
   "cell_type": "code",
   "execution_count": 11,
   "metadata": {
    "collapsed": false
   },
   "outputs": [
    {
     "data": {
      "text/html": [
       "<style>\n",
       ".tc-cell-invalid {\n",
       "    background-color: #ff8080\n",
       "}\n",
       ".tc-highlight {\n",
       "    color: red;\n",
       "    font-weight: bold;\n",
       "    margin: 3px solid black;\n",
       "    background-color: #b0b0b0;\n",
       "}\n",
       "\n",
       ".tc-green {\n",
       "    background-color: #80ff80\n",
       "}\n",
       ".tc-blue {\n",
       "    background-color: #8080ff;\n",
       "}\n",
       "\n",
       "</style>"
      ],
      "text/plain": [
       "<IPython.core.display.HTML object>"
      ]
     },
     "metadata": {},
     "output_type": "display_data"
    }
   ],
   "source": [
    "%%html\n",
    "<style>\n",
    ".tc-cell-invalid {\n",
    "    background-color: #ff8080\n",
    "}\n",
    ".tc-highlight {\n",
    "    color: red;\n",
    "    font-weight: bold;\n",
    "    margin: 3px solid black;\n",
    "    background-color: #b0b0b0;\n",
    "}\n",
    "\n",
    ".tc-green {\n",
    "    background-color: #80ff80\n",
    "}\n",
    ".tc-blue {\n",
    "    background-color: #8080ff;\n",
    "}\n",
    "\n",
    "</style>"
   ]
  },
  {
   "cell_type": "markdown",
   "metadata": {},
   "source": [
    "The MarkupFrame class is subclassed from Pandas' DataFrame class and is used to manipulate and render cell-specific markup. It behaves almost exactly the same as a DataFrame.\n",
    "\n",
    "It can be created from a validation like this:"
   ]
  },
  {
   "cell_type": "code",
   "execution_count": 12,
   "metadata": {
    "collapsed": false
   },
   "outputs": [
    {
     "data": {
      "text/html": [
       "<div style=\"max-height:1000px;max-width:1500px;overflow:auto;\">\n",
       "<table class=\"markup-table\"><thead><th></th><th>active</th><th>email</th><th>name</th><th>x</th><th>y</th></thead><tbody><tr><th>0</th><td>Y</td><td>alice@example.com</td><td>Alice</td><td>0</td><td>0.2</td></tr><tr><th>1</th><td>None</td><td>bob@example.com</td><td>Bob</td><td>3.2</td><td>3.2</td></tr><tr><th>2</th><td>T</td><td class=\"tc-cell-invalid\">blub</td><td class=\"tc-cell-invalid\">Wilhelm Alexander</td><td>5</td><td>1.3</td></tr><tr><th>3</th><td>false</td><td class=\"tc-cell-invalid\">4</td><td class=\"tc-cell-invalid\">1</td><td class=\"tc-cell-invalid\">hello</td><td class=\"tc-cell-invalid\">hello</td></tr><tr><th>4</th><td>no</td><td>mary@example.com</td><td>Mary</td><td class=\"tc-cell-invalid\">-3</td><td class=\"tc-cell-invalid\">-3.0</td></tr><tr><th>5</th><td>T</td><td class=\"tc-cell-invalid tc-cell-invalid\">andy k@example .com</td><td>Andy</td><td class=\"tc-cell-invalid\">11</td><td class=\"tc-cell-invalid\">11.0</td></tr></tbody></table>\n",
       "</div>"
      ],
      "text/plain": [
       "  active                            email             name                x  \\\n",
       "0                                                                             \n",
       "1                                                                             \n",
       "2                         tc-cell-invalid  tc-cell-invalid                    \n",
       "3                         tc-cell-invalid  tc-cell-invalid  tc-cell-invalid   \n",
       "4                                                           tc-cell-invalid   \n",
       "5         tc-cell-invalid,tc-cell-invalid                   tc-cell-invalid   \n",
       "\n",
       "                 y  \n",
       "0                   \n",
       "1                   \n",
       "2                   \n",
       "3  tc-cell-invalid  \n",
       "4  tc-cell-invalid  \n",
       "5  tc-cell-invalid  "
      ]
     },
     "execution_count": 12,
     "metadata": {},
     "output_type": "execute_result"
    }
   ],
   "source": [
    "mdf = tc.MarkupFrame.from_validation(initial_df, verdicts)\n",
    "mdf"
   ]
  },
  {
   "cell_type": "markdown",
   "metadata": {},
   "source": [
    "Note that we put in the initial_df table, because the verdicts always relate to the original dataframe, not the output, which has possibly been altered and shortened during the validation process.\n",
    "\n",
    "Now watch this:"
   ]
  },
  {
   "cell_type": "code",
   "execution_count": 13,
   "metadata": {
    "collapsed": false
   },
   "outputs": [
    {
     "data": {
      "text/html": [
       "<div style=\"max-height:1000px;max-width:1500px;overflow:auto;\">\n",
       "<table class=\"markup-table\"><thead><th></th><th>active</th><th>email</th><th>name</th><th>x</th><th>y</th></thead><tbody><tr><th>0</th><td class=\"tc-blue\">Y</td><td class=\"tc-blue\">alice@example.com</td><td class=\"tc-blue\">Alice</td><td class=\"tc-blue\">0</td><td class=\"tc-green tc-blue\">0.2</td></tr><tr><th>1</th><td>None</td><td>bob@example.com</td><td>Bob</td><td class=\"tc-highlight\">3.2</td><td class=\"tc-green\">3.2</td></tr><tr><th>2</th><td>T</td><td class=\"tc-cell-invalid\">blub</td><td class=\"tc-cell-invalid\">Wilhelm Alexander</td><td>5</td><td class=\"tc-green\">1.3</td></tr><tr><th>3</th><td>false</td><td class=\"tc-cell-invalid\">4</td><td class=\"tc-cell-invalid\">1</td><td class=\"tc-cell-invalid\">hello</td><td class=\"tc-cell-invalid tc-green\">hello</td></tr><tr><th>4</th><td>no</td><td>mary@example.com</td><td>Mary</td><td class=\"tc-cell-invalid\">-3</td><td class=\"tc-cell-invalid tc-green\">-3.0</td></tr><tr><th>5</th><td>T</td><td class=\"tc-cell-invalid tc-cell-invalid\">andy k@example .com</td><td>Andy</td><td class=\"tc-cell-invalid\">11</td><td class=\"tc-cell-invalid tc-green\">11.0</td></tr></tbody></table>\n",
       "</div>"
      ],
      "text/plain": [
       "    active                            email             name                x  \\\n",
       "0  tc-blue                          tc-blue          tc-blue          tc-blue   \n",
       "1                                                                tc-highlight   \n",
       "2                           tc-cell-invalid  tc-cell-invalid                    \n",
       "3                           tc-cell-invalid  tc-cell-invalid  tc-cell-invalid   \n",
       "4                                                             tc-cell-invalid   \n",
       "5           tc-cell-invalid,tc-cell-invalid                   tc-cell-invalid   \n",
       "\n",
       "                          y  \n",
       "0          tc-green,tc-blue  \n",
       "1                  tc-green  \n",
       "2                  tc-green  \n",
       "3  tc-cell-invalid,tc-green  \n",
       "4  tc-cell-invalid,tc-green  \n",
       "5  tc-cell-invalid,tc-green  "
      ]
     },
     "execution_count": 13,
     "metadata": {},
     "output_type": "execute_result"
    }
   ],
   "source": [
    "mdf.x[1] += \"tc-highlight\"\n",
    "mdf.y += \"tc-green\"\n",
    "mdf.ix[0, :] += \"tc-blue\"\n",
    "mdf\n"
   ]
  }
 ],
 "metadata": {
  "kernelspec": {
   "display_name": "IPython (Python 3)",
   "name": "python3"
  },
  "language_info": {
   "codemirror_mode": {
    "name": "ipython",
    "version": 3
   },
   "file_extension": ".py",
   "mimetype": "text/x-python",
   "name": "python",
   "nbconvert_exporter": "python",
   "pygments_lexer": "ipython3",
   "version": "3.4.2"
  }
 },
 "nbformat": 4,
 "nbformat_minor": 0
}